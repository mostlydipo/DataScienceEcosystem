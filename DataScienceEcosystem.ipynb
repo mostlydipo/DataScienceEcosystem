{
 "cells": [
  {
   "cell_type": "markdown",
   "id": "d659693a",
   "metadata": {},
   "source": [
    "# Data Science Tools and Ecosystem"
   ]
  },
  {
   "cell_type": "markdown",
   "id": "588785c1",
   "metadata": {},
   "source": [
    "In this notebook, Data Science Tools and Ecosystems are summarized."
   ]
  },
  {
   "cell_type": "markdown",
   "id": "f2a529f9",
   "metadata": {},
   "source": [
    "**Objectives**\n",
    "- Commonly used libraries by data scientists\n",
    "- Examples of evaluating arithmetic expression in Python\n",
    "- Data Science tools"
   ]
  },
  {
   "cell_type": "markdown",
   "id": "00bb45f9",
   "metadata": {},
   "source": [
    "Some of the popular languages that Data Scientists use ae:\n",
    "1. Python\n",
    "2. R\n",
    "3. Java\n",
    "4. SQL\n",
    "5. Julia"
   ]
  },
  {
   "cell_type": "markdown",
   "id": "ab8f4d16",
   "metadata": {},
   "source": [
    "Some of the commonly used libraries used by Data Scientists include:\n",
    "1. Numpy\n",
    "2. Matplotlib\n",
    "3. Pandas\n",
    "4. Seaborn"
   ]
  },
  {
   "cell_type": "markdown",
   "id": "72a067e3",
   "metadata": {},
   "source": [
    "| Data Science Tools |\n",
    "|--------------------|\n",
    "| Sypder             | \n",
    "|Jupyter Notebook    |\n",
    "| Watson Studio      |"
   ]
  },
  {
   "cell_type": "markdown",
   "id": "107a02ad",
   "metadata": {},
   "source": [
    "###  Below are a few examples of evaluating arithmetic expression in Python"
   ]
  },
  {
   "cell_type": "code",
   "execution_count": 1,
   "id": "b7274ba2",
   "metadata": {},
   "outputs": [
    {
     "data": {
      "text/plain": [
       "17"
      ]
     },
     "execution_count": 1,
     "metadata": {},
     "output_type": "execute_result"
    }
   ],
   "source": [
    "# This is a simple arithmettic expression to multiply then add integers\n",
    "(3*4)+5"
   ]
  },
  {
   "cell_type": "code",
   "execution_count": 2,
   "id": "fa352508",
   "metadata": {},
   "outputs": [
    {
     "data": {
      "text/plain": [
       "3"
      ]
     },
     "execution_count": 2,
     "metadata": {},
     "output_type": "execute_result"
    }
   ],
   "source": [
    "# This will convert 200 minutes to hours by dividing by 60\n",
    "200 // 60"
   ]
  },
  {
   "cell_type": "markdown",
   "id": "933ecef3",
   "metadata": {},
   "source": [
    "## Author\n",
    "Oladipupo Ajibola"
   ]
  },
  {
   "cell_type": "code",
   "execution_count": null,
   "id": "c5ac32b4",
   "metadata": {},
   "outputs": [],
   "source": []
  }
 ],
 "metadata": {
  "kernelspec": {
   "display_name": "Python 3 (ipykernel)",
   "language": "python",
   "name": "python3"
  },
  "language_info": {
   "codemirror_mode": {
    "name": "ipython",
    "version": 3
   },
   "file_extension": ".py",
   "mimetype": "text/x-python",
   "name": "python",
   "nbconvert_exporter": "python",
   "pygments_lexer": "ipython3",
   "version": "3.9.13"
  }
 },
 "nbformat": 4,
 "nbformat_minor": 5
}
